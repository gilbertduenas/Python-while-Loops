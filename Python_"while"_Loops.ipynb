{
  "nbformat": 4,
  "nbformat_minor": 0,
  "metadata": {
    "colab": {
      "name": "Python \"while\" Loops",
      "provenance": [],
      "authorship_tag": "ABX9TyNuDzqdfkVV36Llw7EPJQ4n",
      "include_colab_link": true
    },
    "kernelspec": {
      "name": "python3",
      "display_name": "Python 3"
    }
  },
  "cells": [
    {
      "cell_type": "markdown",
      "metadata": {
        "id": "view-in-github",
        "colab_type": "text"
      },
      "source": [
        "<a href=\"https://colab.research.google.com/github/gilbertduenas/Python-while-Loops/blob/master/Python_%22while%22_Loops.ipynb\" target=\"_parent\"><img src=\"https://colab.research.google.com/assets/colab-badge.svg\" alt=\"Open In Colab\"/></a>"
      ]
    },
    {
      "cell_type": "markdown",
      "metadata": {
        "id": "eIqG9yb6UsWl",
        "colab_type": "text"
      },
      "source": [
        "A while loop implements indefinite iteration, where the number of times the loop will be executed is not specified explicitly in advance. (Indeterminate would probably be an apt description of this type of iteration as well, but not the term that is typically used.)\n",
        "\n",
        "Definite iteration is implemented with the for loop in Python (which is covered in the next tutorial in the series).\n",
        "\n",
        "Discriminant isn’t even an adjective, much less a description of any type of iteration.\n",
        "\n",
        "\n",
        "---"
      ]
    },
    {
      "cell_type": "code",
      "metadata": {
        "id": "NP7b0Z8nUtqI",
        "colab_type": "code",
        "colab": {
          "base_uri": "https://localhost:8080/",
          "height": 88
        },
        "outputId": "d27d772c-e920-4402-9caf-6ce88f4f9fa9"
      },
      "source": [
        "d = {'foo': 1, 'bar': 2, 'baz': 3}\n",
        "while d:\n",
        "    print(d.popitem())\n",
        "print('Done.')"
      ],
      "execution_count": 1,
      "outputs": [
        {
          "output_type": "stream",
          "text": [
            "('baz', 3)\n",
            "('bar', 2)\n",
            "('foo', 1)\n",
            "Done.\n"
          ],
          "name": "stdout"
        }
      ]
    },
    {
      "cell_type": "markdown",
      "metadata": {
        "id": "VpHc7cO6X-w6",
        "colab_type": "text"
      },
      "source": [
        "The .popitem() method removes one key-value pair from d and returns it as a tuple. So the body of this while loop displays the contents of d as tuples.\n",
        "\n",
        "Once the last key-value pair has been removed, d is empty and is falsy in Boolean context. The while loop then terminates and displays the line following the loop body.\n",
        "\n",
        "---"
      ]
    },
    {
      "cell_type": "code",
      "metadata": {
        "id": "ggmm0vckXzCT",
        "colab_type": "code",
        "colab": {
          "base_uri": "https://localhost:8080/",
          "height": 35
        },
        "outputId": "15211007-d3c3-45f9-af5e-ec5e9a33a5ef"
      },
      "source": [
        "d = {'foo': 1, 'bar': 2, 'baz': 3}\n",
        "while len(d) > 3:\n",
        "    print(d.popitem())\n",
        "print('Done.')"
      ],
      "execution_count": 2,
      "outputs": [
        {
          "output_type": "stream",
          "text": [
            "Done.\n"
          ],
          "name": "stdout"
        }
      ]
    },
    {
      "cell_type": "markdown",
      "metadata": {
        "id": "tBB05sXMYWtK",
        "colab_type": "text"
      },
      "source": [
        "The length of d is 3, so len(d) > 3 is False to begin with. The body of the while loop never executes at all.\n",
        "\n",
        "---"
      ]
    },
    {
      "cell_type": "code",
      "metadata": {
        "id": "pNgu-mrhYSxA",
        "colab_type": "code",
        "colab": {
          "base_uri": "https://localhost:8080/",
          "height": 88
        },
        "outputId": "067c7b76-7664-48e2-bedf-cf22978df510"
      },
      "source": [
        "a = ['foo', 'bar', 'baz', 'qux', 'corge']\n",
        "while a:\n",
        "    if len(a) < 3:\n",
        "        break\n",
        "    print(a.pop())\n",
        "print('Done.')"
      ],
      "execution_count": 3,
      "outputs": [
        {
          "output_type": "stream",
          "text": [
            "corge\n",
            "qux\n",
            "baz\n",
            "Done.\n"
          ],
          "name": "stdout"
        }
      ]
    },
    {
      "cell_type": "markdown",
      "metadata": {
        "id": "PAVrTOs_Z8Mj",
        "colab_type": "text"
      },
      "source": [
        "When no arguments are specified, a.pop() removes and returns the last item in a. So each time through the loop, the last item is displayed.\n",
        "\n",
        "But when the loop contains fewer than three items, the break statement on line 4 is reached, and the loop is terminated. Execution then proceeds to the print() statement following the loop, on line 6.\n",
        "\n",
        "---"
      ]
    },
    {
      "cell_type": "code",
      "metadata": {
        "id": "2k4ZJNuqZ7Aq",
        "colab_type": "code",
        "colab": {
          "base_uri": "https://localhost:8080/",
          "height": 292
        },
        "outputId": "c4f848d7-4d7c-4115-d4cf-97791083b0f6"
      },
      "source": [
        "a = ['foo', 'bar', 'baz', 'qux', 'corge']\n",
        "while a:\n",
        "    if len(a) < 3:\n",
        "        continue\n",
        "    print(a.pop())\n",
        "print('Done.')"
      ],
      "execution_count": 4,
      "outputs": [
        {
          "output_type": "stream",
          "text": [
            "corge\n",
            "qux\n",
            "baz\n"
          ],
          "name": "stdout"
        },
        {
          "output_type": "error",
          "ename": "KeyboardInterrupt",
          "evalue": "ignored",
          "traceback": [
            "\u001b[0;31m---------------------------------------------------------------------------\u001b[0m",
            "\u001b[0;31mKeyboardInterrupt\u001b[0m                         Traceback (most recent call last)",
            "\u001b[0;32m<ipython-input-4-8f130d704576>\u001b[0m in \u001b[0;36m<module>\u001b[0;34m()\u001b[0m\n\u001b[1;32m      1\u001b[0m \u001b[0ma\u001b[0m \u001b[0;34m=\u001b[0m \u001b[0;34m[\u001b[0m\u001b[0;34m'foo'\u001b[0m\u001b[0;34m,\u001b[0m \u001b[0;34m'bar'\u001b[0m\u001b[0;34m,\u001b[0m \u001b[0;34m'baz'\u001b[0m\u001b[0;34m,\u001b[0m \u001b[0;34m'qux'\u001b[0m\u001b[0;34m,\u001b[0m \u001b[0;34m'corge'\u001b[0m\u001b[0;34m]\u001b[0m\u001b[0;34m\u001b[0m\u001b[0;34m\u001b[0m\u001b[0m\n\u001b[1;32m      2\u001b[0m \u001b[0;32mwhile\u001b[0m \u001b[0ma\u001b[0m\u001b[0;34m:\u001b[0m\u001b[0;34m\u001b[0m\u001b[0;34m\u001b[0m\u001b[0m\n\u001b[0;32m----> 3\u001b[0;31m     \u001b[0;32mif\u001b[0m \u001b[0mlen\u001b[0m\u001b[0;34m(\u001b[0m\u001b[0ma\u001b[0m\u001b[0;34m)\u001b[0m \u001b[0;34m<\u001b[0m \u001b[0;36m3\u001b[0m\u001b[0;34m:\u001b[0m\u001b[0;34m\u001b[0m\u001b[0;34m\u001b[0m\u001b[0m\n\u001b[0m\u001b[1;32m      4\u001b[0m         \u001b[0;32mcontinue\u001b[0m\u001b[0;34m\u001b[0m\u001b[0;34m\u001b[0m\u001b[0m\n\u001b[1;32m      5\u001b[0m     \u001b[0mprint\u001b[0m\u001b[0;34m(\u001b[0m\u001b[0ma\u001b[0m\u001b[0;34m.\u001b[0m\u001b[0mpop\u001b[0m\u001b[0;34m(\u001b[0m\u001b[0;34m)\u001b[0m\u001b[0;34m)\u001b[0m\u001b[0;34m\u001b[0m\u001b[0;34m\u001b[0m\u001b[0m\n",
            "\u001b[0;31mKeyboardInterrupt\u001b[0m: "
          ]
        }
      ]
    },
    {
      "cell_type": "markdown",
      "metadata": {
        "id": "YSZ-UWg9a5LC",
        "colab_type": "text"
      },
      "source": [
        "As in the last example, each time through the loop the last list item is popped and displayed. Items 'corge', 'qux', and 'baz' are displayed as before.\n",
        "\n",
        "In this case, though, when the list shrinks to fewer than three items, a continue statement is executed instead of a break statement. Instead of terminating the loop completely, execution jumps to the top of the loop and the while loop expression is re-evaluated. a is truthy because it is not empty, so the loop executes again.\n",
        "\n",
        "When the if statement on line 3 is encountered, the length of a is still less than three, so the continue statement is executed again, and once again execution jumps to the top of the loop. a is still truthy, so the loop executes again. And so on, indefinitely.\n",
        "\n",
        "This code generates the same output as the code in the previous question, but the loop never terminates after that. All list elements are printed in the same order as before, but there’s no “Done.” text printed at the end.\n",
        "\n",
        "---"
      ]
    },
    {
      "cell_type": "code",
      "metadata": {
        "id": "9A_gdeiqaiS1",
        "colab_type": "code",
        "colab": {
          "base_uri": "https://localhost:8080/",
          "height": 124
        },
        "outputId": "19d8198b-e68f-4cbe-cdaf-c5544aaab2f7"
      },
      "source": [
        "a = ['foo', 'bar', 'baz', 'qux', 'corge']\n",
        "while a:\n",
        "    print(a.pop())\n",
        "else:\n",
        "    print('Done.')"
      ],
      "execution_count": 5,
      "outputs": [
        {
          "output_type": "stream",
          "text": [
            "corge\n",
            "qux\n",
            "baz\n",
            "bar\n",
            "foo\n",
            "Done.\n"
          ],
          "name": "stdout"
        }
      ]
    },
    {
      "cell_type": "markdown",
      "metadata": {
        "id": "ErA954EiblAK",
        "colab_type": "text"
      },
      "source": [
        "The else clause of a while loop is executed if the loop terminates “by exaustion”, meaning it iterates until the condition becomes false. That occurs in this case, so the statement on line 5 will execute.\n",
        "\n",
        "An else clause is not executed when a while loop is terminated prematurely with a break statement.\n",
        "\n",
        "---"
      ]
    },
    {
      "cell_type": "markdown",
      "metadata": {
        "id": "e3MzqKnGb_A-",
        "colab_type": "text"
      },
      "source": [
        "while True:\n",
        "    …\n",
        "- There’s no way to modify the controlling expression in this case. Unless a break statement is executed at some point, this loop will continue indefinitely. (Actually, there is another way. You could terminate a loop by raising an exception. Exceptions are covered more fully in an upcoming tutorial.)\n",
        "\n",
        "---\n",
        "\n",
        "a = ['foo', 'bar', 'baz', 'qux', 'corge']\n",
        "while a:\n",
        "    …\n",
        " \n",
        "n = 100\n",
        "while n > 0:\n",
        "    …\n",
        "- In these cases, whether the loop terminates depends on if and how a and n are modified within the loop body.\n",
        "\n",
        "---\n",
        "\n",
        "while \"0\":\n",
        "    …\n",
        "- \"0\" is truthy, and there’s no way to modify the controlling expression. A break statement could be used to break out of the loop.\n",
        "\n",
        "---"
      ]
    },
    {
      "cell_type": "code",
      "metadata": {
        "id": "30wZ1lhfbPW8",
        "colab_type": "code",
        "colab": {
          "base_uri": "https://localhost:8080/",
          "height": 36
        },
        "outputId": "2bf0bcb9-28c0-4ef2-da49-f6920e24dad7"
      },
      "source": [
        "s = \"\"\n",
        "\n",
        "n = 5\n",
        "while n > 0:\n",
        "    n -= 1\n",
        "    if (n % 2) == 0:\n",
        "        continue\n",
        "\n",
        "    a = ['foo', 'bar', 'baz']\n",
        "    while a:\n",
        "        s += str(n) + a.pop(0)\n",
        "        if len(a) < 2:\n",
        "            break\n",
        "\n",
        "s"
      ],
      "execution_count": 6,
      "outputs": [
        {
          "output_type": "execute_result",
          "data": {
            "application/vnd.google.colaboratory.intrinsic": {
              "type": "string"
            },
            "text/plain": [
              "'3foo3bar1foo1bar'"
            ]
          },
          "metadata": {
            "tags": []
          },
          "execution_count": 6
        }
      ]
    },
    {
      "cell_type": "markdown",
      "metadata": {
        "id": "P29xwzVheH2N",
        "colab_type": "text"
      },
      "source": [
        "The continue on line 7 applies to the outer while loop; the break on line 13 applies to the inner while loop.\n",
        "\n",
        "n is decremented straight away at the top of the outer loop, so during the body of the loop it effectively has successive values 4, 3, 2, 1, and 0. The continue is executed on the even values, so the inner while loop only occurs when n is 3 and 1.\n",
        "\n",
        "Inside the inner while loop, a.pop(0) removes the first item of a. Once this has occurred twice, yielding 'foo' and 'bar', a has fewer than two items, and the break terminates the inner loop.\n",
        "\n",
        "Thus, the values concatenated onto s are, in turn, 3foo, 3bar, 1foo, and 1bar.\n",
        "\n",
        "---"
      ]
    },
    {
      "cell_type": "markdown",
      "metadata": {
        "id": "7qVKmpQaentp",
        "colab_type": "text"
      },
      "source": [
        "To remove all values from list a use:\n",
        "\n",
        "- a.clear()\n",
        "- a = []\n",
        "\n",
        "Only a simple statement may occur on the same line as while.\n",
        "\n",
        "PEP 8 discourages while a: a.pop().\n",
        "\n",
        "---"
      ]
    }
  ]
}